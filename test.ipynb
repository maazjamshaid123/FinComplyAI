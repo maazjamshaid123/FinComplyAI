{
 "cells": [
  {
   "cell_type": "code",
   "execution_count": 3,
   "metadata": {},
   "outputs": [],
   "source": [
    "import pandas as pd"
   ]
  },
  {
   "cell_type": "code",
   "execution_count": 4,
   "metadata": {},
   "outputs": [],
   "source": [
    "df = pd.read_csv(\"wholesale_distributor_transactions.csv\")"
   ]
  },
  {
   "cell_type": "code",
   "execution_count": 5,
   "metadata": {},
   "outputs": [],
   "source": [
    "credit_transactions = df[df['Credit/Debit'] == 'Credit']\n",
    "debit_transactions = df[df['Credit/Debit'] == 'Debit']"
   ]
  },
  {
   "cell_type": "code",
   "execution_count": 6,
   "metadata": {},
   "outputs": [
    {
     "data": {
      "text/plain": [
       "(105840447.16, 44717067.01)"
      ]
     },
     "execution_count": 6,
     "metadata": {},
     "output_type": "execute_result"
    }
   ],
   "source": [
    "total_credit_amount = credit_transactions['Amount $'].sum()\n",
    "total_debit_amount = debit_transactions['Amount $'].sum()\n",
    "total_credit_amount,total_debit_amount"
   ]
  },
  {
   "cell_type": "code",
   "execution_count": 7,
   "metadata": {},
   "outputs": [],
   "source": [
    "num_credit_transactions = len(credit_transactions)\n",
    "num_debit_transactions = len(debit_transactions)"
   ]
  },
  {
   "cell_type": "code",
   "execution_count": 8,
   "metadata": {},
   "outputs": [
    {
     "data": {
      "text/plain": [
       "(20979, 9021)"
      ]
     },
     "execution_count": 8,
     "metadata": {},
     "output_type": "execute_result"
    }
   ],
   "source": [
    "num_credit_transactions,num_debit_transactions"
   ]
  },
  {
   "cell_type": "code",
   "execution_count": 9,
   "metadata": {},
   "outputs": [
    {
     "data": {
      "text/plain": [
       "150557514.17000002"
      ]
     },
     "execution_count": 9,
     "metadata": {},
     "output_type": "execute_result"
    }
   ],
   "source": [
    "total_amount = df['Amount $'].sum()\n",
    "total_amount"
   ]
  },
  {
   "cell_type": "code",
   "execution_count": 10,
   "metadata": {},
   "outputs": [
    {
     "data": {
      "text/plain": [
       "5018.583805666667"
      ]
     },
     "execution_count": 10,
     "metadata": {},
     "output_type": "execute_result"
    }
   ],
   "source": [
    "average_transaction_amount = total_amount / (num_credit_transactions + num_debit_transactions)\n",
    "average_transaction_amount"
   ]
  },
  {
   "cell_type": "code",
   "execution_count": 11,
   "metadata": {},
   "outputs": [
    {
     "data": {
      "text/plain": [
       "<pandas.core.groupby.generic.DataFrameGroupBy object at 0x000002134B9AFE90>"
      ]
     },
     "execution_count": 11,
     "metadata": {},
     "output_type": "execute_result"
    }
   ],
   "source": [
    "account_transaction_type_totals = df.groupby(['Account'])\n",
    "account_transaction_type_totals"
   ]
  },
  {
   "cell_type": "code",
   "execution_count": 12,
   "metadata": {},
   "outputs": [
    {
     "data": {
      "text/plain": [
       "2"
      ]
     },
     "execution_count": 12,
     "metadata": {},
     "output_type": "execute_result"
    }
   ],
   "source": [
    "len(account_transaction_type_totals)"
   ]
  },
  {
   "cell_type": "code",
   "execution_count": 13,
   "metadata": {},
   "outputs": [
    {
     "data": {
      "text/plain": [
       "2983"
      ]
     },
     "execution_count": 13,
     "metadata": {},
     "output_type": "execute_result"
    }
   ],
   "source": [
    "ach_deposits = df[df['Transaction Description'] == 'ACH In']\n",
    "len(ach_deposits)"
   ]
  },
  {
   "cell_type": "code",
   "execution_count": 14,
   "metadata": {},
   "outputs": [
    {
     "data": {
      "text/plain": [
       "3010"
      ]
     },
     "execution_count": 14,
     "metadata": {},
     "output_type": "execute_result"
    }
   ],
   "source": [
    "ach_payments= df[df['Transaction Description'] == 'ACH Out']\n",
    "len(ach_payments)"
   ]
  },
  {
   "cell_type": "code",
   "execution_count": 19,
   "metadata": {},
   "outputs": [
    {
     "data": {
      "text/plain": [
       "(15300254.3, 15216454.02)"
      ]
     },
     "execution_count": 19,
     "metadata": {},
     "output_type": "execute_result"
    }
   ],
   "source": [
    "cash_deposit = df[df['Transaction Description'] == 'Cash In']\n",
    "num_cash_deposit = len(cash_deposit)\n",
    "cash_payment = df[df['Transaction Description'] == 'Cash Out']\n",
    "num_cash_payment = len(cash_payment)\n",
    "cash_deposit_total_amount = cash_deposit['Amount $'].sum()\n",
    "cash_payment_total_amount = cash_payment['Amount $'].sum()\n",
    "cash_deposit_total_amount, cash_payment_total_amount"
   ]
  },
  {
   "cell_type": "code",
   "execution_count": 20,
   "metadata": {},
   "outputs": [],
   "source": [
    "wire_in = df[df['Transaction Description'] == 'Domestic Wire In']\n",
    "num_wire_in = len(wire_in)\n",
    "wire_out = df[df['Transaction Description'] == 'Domestic Wire Out']\n",
    "num_wire_out = len(wire_out)\n",
    "wire_in_total_amount = wire_in['Amount $'].sum()\n",
    "wire_out_total_amount = wire_out['Amount $'].sum()\n",
    "wire_in_counterparty_info = wire_in.groupby('Counterparty')['Amount $'].sum()\n",
    "wire_out_counterparty_info = wire_out.groupby('Counterparty')['Amount $'].sum()"
   ]
  },
  {
   "cell_type": "code",
   "execution_count": 28,
   "metadata": {},
   "outputs": [
    {
     "data": {
      "text/plain": [
       "(Counterparty\n",
       " 3M                     755011.69\n",
       " ABB                    707327.51\n",
       " Caterpillar            829320.75\n",
       " Cummins                780441.78\n",
       " Danaher                865154.94\n",
       " Deere & Company        650098.90\n",
       " Dover Corporation      880903.42\n",
       " Eaton                  762189.63\n",
       " Emerson Electric       748298.09\n",
       " General Electric       705443.02\n",
       " Honeywell              864506.52\n",
       " ITT Inc.               844129.56\n",
       " Illinois Tool Works    850955.34\n",
       " Ingersoll Rand         740032.76\n",
       " Johnson Controls       849239.96\n",
       " Parker-Hannifin        552649.25\n",
       " Rockwell Automation    711627.97\n",
       " Schneider Electric     789980.49\n",
       " Siemens                769157.69\n",
       " Xylem                  654744.81\n",
       " Name: Amount $, dtype: float64,\n",
       " Counterparty\n",
       " 3M                     651086.41\n",
       " ABB                    701574.45\n",
       " Caterpillar            716625.47\n",
       " Cummins                782076.86\n",
       " Danaher                681831.45\n",
       " Deere & Company        702161.48\n",
       " Dover Corporation      809623.57\n",
       " Eaton                  706554.40\n",
       " Emerson Electric       718564.92\n",
       " General Electric       742627.19\n",
       " Honeywell              632102.24\n",
       " ITT Inc.               830710.29\n",
       " Illinois Tool Works    708682.71\n",
       " Ingersoll Rand         776961.15\n",
       " Johnson Controls       764481.21\n",
       " Parker-Hannifin        809486.46\n",
       " Rockwell Automation    723661.37\n",
       " Schneider Electric     762558.96\n",
       " Siemens                674825.81\n",
       " Xylem                  784740.76\n",
       " Name: Amount $, dtype: float64)"
      ]
     },
     "execution_count": 28,
     "metadata": {},
     "output_type": "execute_result"
    }
   ],
   "source": []
  },
  {
   "cell_type": "code",
   "execution_count": 26,
   "metadata": {},
   "outputs": [
    {
     "name": "stdout",
     "output_type": "stream",
     "text": [
      "\n",
      "Domestic Wires: 2999 transactions totaling $15311214.079999998 primarily from:\n",
      "\n",
      "3M: 144 transactions, $755011.69\n",
      "\n",
      "ABB: 145 transactions, $707327.51\n",
      "\n",
      "Caterpillar: 164 transactions, $829320.75\n",
      "\n",
      "Cummins: 154 transactions, $780441.78\n",
      "\n",
      "Danaher: 167 transactions, $865154.94\n",
      "\n",
      "Deere & Company: 136 transactions, $650098.9\n",
      "\n",
      "Dover Corporation: 163 transactions, $880903.42\n",
      "\n",
      "Eaton: 154 transactions, $762189.63\n",
      "\n",
      "Emerson Electric: 145 transactions, $748298.09\n",
      "\n",
      "General Electric: 150 transactions, $705443.02\n",
      "\n",
      "Honeywell: 161 transactions, $864506.52\n",
      "\n",
      "ITT Inc.: 155 transactions, $844129.56\n",
      "\n",
      "Illinois Tool Works: 157 transactions, $850955.34\n",
      "\n",
      "Ingersoll Rand: 150 transactions, $740032.76\n",
      "\n",
      "Johnson Controls: 162 transactions, $849239.96\n",
      "\n",
      "Parker-Hannifin: 125 transactions, $552649.25\n",
      "\n",
      "Rockwell Automation: 137 transactions, $711627.97\n",
      "\n",
      "Schneider Electric: 148 transactions, $789980.49\n",
      "\n",
      "Siemens: 151 transactions, $769157.69\n",
      "\n",
      "Xylem: 131 transactions, $654744.81\n",
      "\n"
     ]
    }
   ],
   "source": [
    "print(f\"\\nDomestic Wires: {num_wire_in} transactions totaling ${wire_in_total_amount} primarily from:\\n\")\n",
    "for counterparty, amount in wire_in_counterparty_info.items():\n",
    "    print(f\"{counterparty}: {len(wire_in[wire_in['Counterparty'] == counterparty])} transactions, ${amount}\\n\")"
   ]
  },
  {
   "cell_type": "code",
   "execution_count": 33,
   "metadata": {},
   "outputs": [],
   "source": [
    "text += f\"\\nDomestic Payments: {num_wire_out} transactions totaling ${wire_out_total_amount} primarily from:\\n\"\n",
    "for counterparty, amount in wire_out_counterparty_info.items():\n",
    "    text+= f\"{counterparty}: {len(wire_out[wire_out['Counterparty'] == counterparty])} transactions, ${amount}\\n\""
   ]
  },
  {
   "cell_type": "code",
   "execution_count": 37,
   "metadata": {},
   "outputs": [],
   "source": [
    "check_in = df[df['Transaction Description'] == 'Check In']\n",
    "num_check_in = len(check_in)\n",
    "check_out = df[df['Transaction Description'] == 'Check Out']\n",
    "num_check_out = len(check_out)\n",
    "check_in_total_amount = check_in['Amount $'].sum()\n",
    "check_out_total_amount = check_out['Amount $'].sum()"
   ]
  },
  {
   "cell_type": "code",
   "execution_count": 41,
   "metadata": {},
   "outputs": [],
   "source": [
    "it_in = df[df['Transaction Description'] == 'Internal Transfer In']\n",
    "it_out = df[df['Transaction Description'] == 'Internal Transfer Out']\n",
    "num_it_in = len(it_in)\n",
    "num_it_out = len(it_out)\n",
    "it_in_total_amount = it_in['Amount $'].sum()\n",
    "it_out_total_amount = it_out['Amount $'].sum()"
   ]
  },
  {
   "cell_type": "code",
   "execution_count": 42,
   "metadata": {},
   "outputs": [
    {
     "data": {
      "text/plain": [
       "(2947, 2942)"
      ]
     },
     "execution_count": 42,
     "metadata": {},
     "output_type": "execute_result"
    }
   ],
   "source": [
    "num_it_in, num_it_out"
   ]
  },
  {
   "cell_type": "code",
   "execution_count": 43,
   "metadata": {},
   "outputs": [
    {
     "data": {
      "text/plain": [
       "(14898441.41, 14713677.080000002)"
      ]
     },
     "execution_count": 43,
     "metadata": {},
     "output_type": "execute_result"
    }
   ],
   "source": [
    "it_in_total_amount,it_out_total_amount"
   ]
  },
  {
   "cell_type": "code",
   "execution_count": null,
   "metadata": {},
   "outputs": [],
   "source": []
  }
 ],
 "metadata": {
  "kernelspec": {
   "display_name": "Python 3",
   "language": "python",
   "name": "python3"
  },
  "language_info": {
   "codemirror_mode": {
    "name": "ipython",
    "version": 3
   },
   "file_extension": ".py",
   "mimetype": "text/x-python",
   "name": "python",
   "nbconvert_exporter": "python",
   "pygments_lexer": "ipython3",
   "version": "3.11.5"
  },
  "orig_nbformat": 4
 },
 "nbformat": 4,
 "nbformat_minor": 2
}

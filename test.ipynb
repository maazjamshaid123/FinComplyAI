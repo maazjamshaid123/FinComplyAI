{
 "cells": [
  {
   "cell_type": "code",
   "execution_count": 1,
   "metadata": {},
   "outputs": [],
   "source": [
    "import pandas as pd"
   ]
  },
  {
   "cell_type": "code",
   "execution_count": 2,
   "metadata": {},
   "outputs": [],
   "source": [
    "df = pd.read_csv(\"marijuana_dispensary_transactions.csv\")"
   ]
  },
  {
   "cell_type": "code",
   "execution_count": 3,
   "metadata": {},
   "outputs": [],
   "source": [
    "credit_transactions = df[df['Credit/Debit'] == 'Credit']\n",
    "debit_transactions = df[df['Credit/Debit'] == 'Debit']"
   ]
  },
  {
   "cell_type": "code",
   "execution_count": 4,
   "metadata": {},
   "outputs": [
    {
     "data": {
      "text/plain": [
       "(63037373.82, 58147576.910000004)"
      ]
     },
     "execution_count": 4,
     "metadata": {},
     "output_type": "execute_result"
    }
   ],
   "source": [
    "total_credit_amount = credit_transactions['Amount $'].sum()\n",
    "total_debit_amount = debit_transactions['Amount $'].sum()\n",
    "total_credit_amount,total_debit_amount"
   ]
  },
  {
   "cell_type": "code",
   "execution_count": 5,
   "metadata": {},
   "outputs": [],
   "source": [
    "num_credit_transactions = len(credit_transactions)\n",
    "num_debit_transactions = len(debit_transactions)"
   ]
  },
  {
   "cell_type": "code",
   "execution_count": 6,
   "metadata": {},
   "outputs": [
    {
     "data": {
      "text/plain": [
       "(26000, 24000)"
      ]
     },
     "execution_count": 6,
     "metadata": {},
     "output_type": "execute_result"
    }
   ],
   "source": [
    "num_credit_transactions,num_debit_transactions"
   ]
  },
  {
   "cell_type": "code",
   "execution_count": 7,
   "metadata": {},
   "outputs": [
    {
     "data": {
      "text/plain": [
       "121184950.73"
      ]
     },
     "execution_count": 7,
     "metadata": {},
     "output_type": "execute_result"
    }
   ],
   "source": [
    "total_amount = df['Amount $'].sum()\n",
    "total_amount"
   ]
  },
  {
   "cell_type": "code",
   "execution_count": 8,
   "metadata": {},
   "outputs": [
    {
     "data": {
      "text/plain": [
       "2423.6990146000003"
      ]
     },
     "execution_count": 8,
     "metadata": {},
     "output_type": "execute_result"
    }
   ],
   "source": [
    "average_transaction_amount = total_amount / (num_credit_transactions + num_debit_transactions)\n",
    "average_transaction_amount"
   ]
  },
  {
   "cell_type": "code",
   "execution_count": 9,
   "metadata": {},
   "outputs": [
    {
     "data": {
      "text/plain": [
       "<pandas.core.groupby.generic.DataFrameGroupBy object at 0x000002961FAB5F90>"
      ]
     },
     "execution_count": 9,
     "metadata": {},
     "output_type": "execute_result"
    }
   ],
   "source": [
    "account_transaction_type_totals = df.groupby(['Account'])\n",
    "account_transaction_type_totals"
   ]
  },
  {
   "cell_type": "code",
   "execution_count": 10,
   "metadata": {},
   "outputs": [
    {
     "data": {
      "text/plain": [
       "1"
      ]
     },
     "execution_count": 10,
     "metadata": {},
     "output_type": "execute_result"
    }
   ],
   "source": [
    "len(account_transaction_type_totals)"
   ]
  },
  {
   "cell_type": "code",
   "execution_count": 11,
   "metadata": {},
   "outputs": [
    {
     "data": {
      "text/plain": [
       "13000"
      ]
     },
     "execution_count": 11,
     "metadata": {},
     "output_type": "execute_result"
    }
   ],
   "source": [
    "ach_deposits = df[df['Transaction Description'] == 'ACH In']\n",
    "len(ach_deposits)"
   ]
  },
  {
   "cell_type": "code",
   "execution_count": 12,
   "metadata": {},
   "outputs": [
    {
     "data": {
      "text/plain": [
       "0"
      ]
     },
     "execution_count": 12,
     "metadata": {},
     "output_type": "execute_result"
    }
   ],
   "source": [
    "ach_payments= df[df['Transaction Description'] == 'ACH Out']\n",
    "len(ach_payments)"
   ]
  },
  {
   "cell_type": "code",
   "execution_count": 13,
   "metadata": {},
   "outputs": [
    {
     "data": {
      "text/plain": [
       "(31443589.54, 5694430.95)"
      ]
     },
     "execution_count": 13,
     "metadata": {},
     "output_type": "execute_result"
    }
   ],
   "source": [
    "cash_deposit = df[df['Transaction Description'] == 'Cash In']\n",
    "num_cash_deposit = len(cash_deposit)\n",
    "cash_payment = df[df['Transaction Description'] == 'Cash Out']\n",
    "num_cash_payment = len(cash_payment)\n",
    "cash_deposit_total_amount = cash_deposit['Amount $'].sum()\n",
    "cash_payment_total_amount = cash_payment['Amount $'].sum()\n",
    "cash_deposit_total_amount, cash_payment_total_amount"
   ]
  },
  {
   "cell_type": "code",
   "execution_count": 14,
   "metadata": {},
   "outputs": [],
   "source": [
    "wire_in = df[df['Transaction Description'] == 'Domestic Wire In']\n",
    "num_wire_in = len(wire_in)\n",
    "wire_out = df[df['Transaction Description'] == 'Domestic Wire Out']\n",
    "num_wire_out = len(wire_out)\n",
    "wire_in_total_amount = wire_in['Amount $'].sum()\n",
    "wire_out_total_amount = wire_out['Amount $'].sum()\n",
    "wire_in_counterparty_info = wire_in.groupby('Counterparty')['Amount $'].sum()\n",
    "wire_out_counterparty_info = wire_out.groupby('Counterparty')['Amount $'].sum()"
   ]
  },
  {
   "cell_type": "code",
   "execution_count": 16,
   "metadata": {},
   "outputs": [
    {
     "data": {
      "text/plain": [
       "(0, 21600)"
      ]
     },
     "execution_count": 16,
     "metadata": {},
     "output_type": "execute_result"
    }
   ],
   "source": [
    "num_wire_in, num_wire_out"
   ]
  },
  {
   "cell_type": "code",
   "execution_count": 26,
   "metadata": {},
   "outputs": [
    {
     "name": "stdout",
     "output_type": "stream",
     "text": [
      "\n",
      "Domestic Wires: 2999 transactions totaling $15311214.079999998 primarily from:\n",
      "\n",
      "3M: 144 transactions, $755011.69\n",
      "\n",
      "ABB: 145 transactions, $707327.51\n",
      "\n",
      "Caterpillar: 164 transactions, $829320.75\n",
      "\n",
      "Cummins: 154 transactions, $780441.78\n",
      "\n",
      "Danaher: 167 transactions, $865154.94\n",
      "\n",
      "Deere & Company: 136 transactions, $650098.9\n",
      "\n",
      "Dover Corporation: 163 transactions, $880903.42\n",
      "\n",
      "Eaton: 154 transactions, $762189.63\n",
      "\n",
      "Emerson Electric: 145 transactions, $748298.09\n",
      "\n",
      "General Electric: 150 transactions, $705443.02\n",
      "\n",
      "Honeywell: 161 transactions, $864506.52\n",
      "\n",
      "ITT Inc.: 155 transactions, $844129.56\n",
      "\n",
      "Illinois Tool Works: 157 transactions, $850955.34\n",
      "\n",
      "Ingersoll Rand: 150 transactions, $740032.76\n",
      "\n",
      "Johnson Controls: 162 transactions, $849239.96\n",
      "\n",
      "Parker-Hannifin: 125 transactions, $552649.25\n",
      "\n",
      "Rockwell Automation: 137 transactions, $711627.97\n",
      "\n",
      "Schneider Electric: 148 transactions, $789980.49\n",
      "\n",
      "Siemens: 151 transactions, $769157.69\n",
      "\n",
      "Xylem: 131 transactions, $654744.81\n",
      "\n"
     ]
    }
   ],
   "source": [
    "print(f\"\\nDomestic Wires: {num_wire_in} transactions totaling ${wire_in_total_amount} primarily from:\\n\")\n",
    "for counterparty, amount in wire_in_counterparty_info.items():\n",
    "    print(f\"{counterparty}: {len(wire_in[wire_in['Counterparty'] == counterparty])} transactions, ${amount}\\n\")"
   ]
  },
  {
   "cell_type": "code",
   "execution_count": 33,
   "metadata": {},
   "outputs": [],
   "source": [
    "text += f\"\\nDomestic Payments: {num_wire_out} transactions totaling ${wire_out_total_amount} primarily from:\\n\"\n",
    "for counterparty, amount in wire_out_counterparty_info.items():\n",
    "    text+= f\"{counterparty}: {len(wire_out[wire_out['Counterparty'] == counterparty])} transactions, ${amount}\\n\""
   ]
  },
  {
   "cell_type": "code",
   "execution_count": 37,
   "metadata": {},
   "outputs": [],
   "source": [
    "check_in = df[df['Transaction Description'] == 'Check In']\n",
    "num_check_in = len(check_in)\n",
    "check_out = df[df['Transaction Description'] == 'Check Out']\n",
    "num_check_out = len(check_out)\n",
    "check_in_total_amount = check_in['Amount $'].sum()\n",
    "check_out_total_amount = check_out['Amount $'].sum()"
   ]
  },
  {
   "cell_type": "code",
   "execution_count": 41,
   "metadata": {},
   "outputs": [],
   "source": [
    "it_in = df[df['Transaction Description'] == 'Internal Transfer In']\n",
    "it_out = df[df['Transaction Description'] == 'Internal Transfer Out']\n",
    "num_it_in = len(it_in)\n",
    "num_it_out = len(it_out)\n",
    "it_in_total_amount = it_in['Amount $'].sum()\n",
    "it_out_total_amount = it_out['Amount $'].sum()"
   ]
  },
  {
   "cell_type": "code",
   "execution_count": 42,
   "metadata": {},
   "outputs": [
    {
     "data": {
      "text/plain": [
       "(2947, 2942)"
      ]
     },
     "execution_count": 42,
     "metadata": {},
     "output_type": "execute_result"
    }
   ],
   "source": [
    "num_it_in, num_it_out"
   ]
  },
  {
   "cell_type": "code",
   "execution_count": 43,
   "metadata": {},
   "outputs": [
    {
     "data": {
      "text/plain": [
       "(14898441.41, 14713677.080000002)"
      ]
     },
     "execution_count": 43,
     "metadata": {},
     "output_type": "execute_result"
    }
   ],
   "source": [
    "it_in_total_amount,it_out_total_amount"
   ]
  },
  {
   "cell_type": "code",
   "execution_count": null,
   "metadata": {},
   "outputs": [],
   "source": []
  }
 ],
 "metadata": {
  "kernelspec": {
   "display_name": "Python 3",
   "language": "python",
   "name": "python3"
  },
  "language_info": {
   "codemirror_mode": {
    "name": "ipython",
    "version": 3
   },
   "file_extension": ".py",
   "mimetype": "text/x-python",
   "name": "python",
   "nbconvert_exporter": "python",
   "pygments_lexer": "ipython3",
   "version": "3.11.5"
  },
  "orig_nbformat": 4
 },
 "nbformat": 4,
 "nbformat_minor": 2
}
